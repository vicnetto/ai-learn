{
  "nbformat": 4,
  "nbformat_minor": 0,
  "metadata": {
    "colab": {
      "name": "ml-sklearn.ipynb",
      "provenance": [],
      "collapsed_sections": []
    },
    "kernelspec": {
      "name": "python3",
      "display_name": "Python 3"
    }
  },
  "cells": [
    {
      "cell_type": "markdown",
      "metadata": {
        "id": "TgjFcQ7Xuac_",
        "colab_type": "text"
      },
      "source": [
        "[![Open In Colab](https://colab.research.google.com/assets/colab-badge.svg)](https://colab.research.google.com/github/vicnetto/py-learn/blob/master/machine-learning/ml-sklearn/ml-sklearn.ipynb) \n",
        "> # Introdução ao **SKLearn**\n",
        "(ABRA PELO GOOGLE COLAB PARA MELHOR VISUALIZAÇÃO, ABRA COM UMA NOVA JANELA)"
      ]
    },
    {
      "cell_type": "markdown",
      "metadata": {
        "id": "T__lvzl4vU5n",
        "colab_type": "text"
      },
      "source": [
        "Dentro dessa pequena introdução, o objetivo é realizar algumas previsões com algoritmos de classificação, a partir de alguns passos: **features**, **itens**, **treino**, **teste**, **taxa de acerto**, **otimização** e **previsão**."
      ]
    },
    {
      "cell_type": "markdown",
      "metadata": {
        "id": "NHPKjlt90UUW",
        "colab_type": "text"
      },
      "source": [
        "## Iniciando o reconhecimento de padrões"
      ]
    },
    {
      "cell_type": "markdown",
      "metadata": {
        "id": "V4dWrXyz0YJG",
        "colab_type": "text"
      },
      "source": [
        "Primeiramente é necessário inserir os padrões que serão reconhecidos pelo programa. Para isso, será utilizado dois animais: os porcos e os cachorros. Dentro desses dois animais, serão separados por algumas **features**, como apresentam pelo longo, tem pernas curtas e latem. Tudo isso será representado por valores binários, 0 como não apresenta e 1 caso tenha essa característica."
      ]
    },
    {
      "cell_type": "code",
      "metadata": {
        "id": "0FSucD3TBFv6",
        "colab_type": "code",
        "colab": {
          "base_uri": "https://localhost:8080/",
          "height": 35
        },
        "outputId": "2ab992df-a874-4f8e-f956-2d933ac1f9a9"
      },
      "source": [
        "# Pelos longos | Pernas curtas | Latem\n",
        "\n",
        "pigs = [[0, 1, 0], [0, 1, 1], [1, 1, 0]]\n",
        "dogs = [[0, 1, 1], [1, 0, 1], [1, 1 ,1]]\n",
        "\n",
        "train_x = pigs + dogs\n",
        "train_y = [1, 1, 1, 0, 0, 0]  # 1 para porco e 0 para cachorro.\n",
        "print(train_x)"
      ],
      "execution_count": 38,
      "outputs": [
        {
          "output_type": "stream",
          "text": [
            "[[0, 1, 0], [0, 1, 1], [1, 1, 0], [0, 1, 1], [1, 0, 1], [1, 1, 1]]\n"
          ],
          "name": "stdout"
        }
      ]
    },
    {
      "cell_type": "markdown",
      "metadata": {
        "id": "3KLXuDNHBwVX",
        "colab_type": "text"
      },
      "source": [
        "Para isso, será importado uma biblioteca conhecida como **SKLearn**, utilizada para tentar efetuar uma estimação."
      ]
    },
    {
      "cell_type": "code",
      "metadata": {
        "id": "HUppUPTrD-fR",
        "colab_type": "code",
        "colab": {
          "base_uri": "https://localhost:8080/",
          "height": 35
        },
        "outputId": "b9b83636-aab0-4661-9abc-71d12b2cc1d6"
      },
      "source": [
        "from sklearn.svm import LinearSVC\n",
        "\n",
        "model = LinearSVC()\n",
        "model.fit(train_x, train_y)  # Mostrando os dados para o reconhecimento.\n",
        "\n",
        "test_x = [[0, 1, 1], [1, 0, 1], [0, 0, 0]]  # 1 - Porco | 2 - Cachorro | 3 - Porco\n",
        "test_y = [1, 0, 1]\n",
        "\n",
        "prediction = model.predict(test_x)\n",
        "prediction"
      ],
      "execution_count": 39,
      "outputs": [
        {
          "output_type": "execute_result",
          "data": {
            "text/plain": [
              "array([0, 0, 1])"
            ]
          },
          "metadata": {
            "tags": []
          },
          "execution_count": 39
        }
      ]
    },
    {
      "cell_type": "markdown",
      "metadata": {
        "id": "pcGhy3uVP9xW",
        "colab_type": "text"
      },
      "source": [
        "Sendo possível observar que apenas dois desses dados estão corretos.\n",
        "\n",
        "> É importante notar que a função **predict** retorna um array do **Numpy**, e não um array do Python.\n",
        "\n",
        "Sendo assim é possível calcular a **taxa de acertos**:"
      ]
    },
    {
      "cell_type": "code",
      "metadata": {
        "id": "-TiA_8KnVoYO",
        "colab_type": "code",
        "colab": {
          "base_uri": "https://localhost:8080/",
          "height": 35
        },
        "outputId": "6bba1044-786d-4e01-8642-3d644f4e4791"
      },
      "source": [
        "from sklearn.metrics import accuracy_score\n",
        "\n",
        "tax = accuracy_score(test_y, prediction)\n",
        "print(\"Hit rate: %.2f\" % (tax * 100), end=\"%\\n\")"
      ],
      "execution_count": 40,
      "outputs": [
        {
          "output_type": "stream",
          "text": [
            "Hit rate: 66.67%\n"
          ],
          "name": "stdout"
        }
      ]
    },
    {
      "cell_type": "markdown",
      "metadata": {
        "id": "_dnKy-cEO-LJ",
        "colab_type": "text"
      },
      "source": [
        "## Um pouco sobre classificação "
      ]
    },
    {
      "cell_type": "markdown",
      "metadata": {
        "id": "W_-MnhZtPxJq",
        "colab_type": "text"
      },
      "source": [
        "Nesse caso, é possível retirar as informações de um site de forma **boleana**. Por exemplo, existem diversas janelas dentro de um site como \"how it works\" e \"contact\". É possível estudar esses dados e verificar quais dos domínios foram abertos e geraram uma compra, sendo possível tratar esses dados futuramente. Para isso, faz-se o seguinte:"
      ]
    },
    {
      "cell_type": "code",
      "metadata": {
        "id": "GgxJoimePK8V",
        "colab_type": "code",
        "colab": {
          "base_uri": "https://localhost:8080/",
          "height": 206
        },
        "outputId": "818290ff-688d-4a18-b787-c6bb4a3c5656"
      },
      "source": [
        "import pandas as pd\n",
        "\n",
        "url = \"https://gist.githubusercontent.com/guilhermesilveira/2d2efa37d66b6c84a722ea627a897ced/raw/10968b997d885cbded1c92938c7a9912ba41c615/tracking.csv\"\n",
        "data = pd.read_csv(url)\n",
        "data.head()"
      ],
      "execution_count": 41,
      "outputs": [
        {
          "output_type": "execute_result",
          "data": {
            "text/html": [
              "<div>\n",
              "<style scoped>\n",
              "    .dataframe tbody tr th:only-of-type {\n",
              "        vertical-align: middle;\n",
              "    }\n",
              "\n",
              "    .dataframe tbody tr th {\n",
              "        vertical-align: top;\n",
              "    }\n",
              "\n",
              "    .dataframe thead th {\n",
              "        text-align: right;\n",
              "    }\n",
              "</style>\n",
              "<table border=\"1\" class=\"dataframe\">\n",
              "  <thead>\n",
              "    <tr style=\"text-align: right;\">\n",
              "      <th></th>\n",
              "      <th>home</th>\n",
              "      <th>how_it_works</th>\n",
              "      <th>contact</th>\n",
              "      <th>bought</th>\n",
              "    </tr>\n",
              "  </thead>\n",
              "  <tbody>\n",
              "    <tr>\n",
              "      <th>0</th>\n",
              "      <td>1</td>\n",
              "      <td>1</td>\n",
              "      <td>0</td>\n",
              "      <td>0</td>\n",
              "    </tr>\n",
              "    <tr>\n",
              "      <th>1</th>\n",
              "      <td>1</td>\n",
              "      <td>1</td>\n",
              "      <td>0</td>\n",
              "      <td>0</td>\n",
              "    </tr>\n",
              "    <tr>\n",
              "      <th>2</th>\n",
              "      <td>1</td>\n",
              "      <td>1</td>\n",
              "      <td>0</td>\n",
              "      <td>0</td>\n",
              "    </tr>\n",
              "    <tr>\n",
              "      <th>3</th>\n",
              "      <td>1</td>\n",
              "      <td>1</td>\n",
              "      <td>0</td>\n",
              "      <td>0</td>\n",
              "    </tr>\n",
              "    <tr>\n",
              "      <th>4</th>\n",
              "      <td>1</td>\n",
              "      <td>1</td>\n",
              "      <td>0</td>\n",
              "      <td>0</td>\n",
              "    </tr>\n",
              "  </tbody>\n",
              "</table>\n",
              "</div>"
            ],
            "text/plain": [
              "   home  how_it_works  contact  bought\n",
              "0     1             1        0       0\n",
              "1     1             1        0       0\n",
              "2     1             1        0       0\n",
              "3     1             1        0       0\n",
              "4     1             1        0       0"
            ]
          },
          "metadata": {
            "tags": []
          },
          "execution_count": 41
        }
      ]
    },
    {
      "cell_type": "markdown",
      "metadata": {
        "id": "H5zaY--NQPg_",
        "colab_type": "text"
      },
      "source": [
        "Ao obter a tabela do possível site, é necessário oferecer ao **sklearn** qual o *train_x* e o *train_y*, para realizarmos o estudo."
      ]
    },
    {
      "cell_type": "code",
      "metadata": {
        "id": "oJ_4y-B-Qmfl",
        "colab_type": "code",
        "colab": {
          "base_uri": "https://localhost:8080/",
          "height": 54
        },
        "outputId": "5f72b2a4-a151-47dc-a520-4d690aefe965"
      },
      "source": [
        "x = data[[\"home\", \"how_it_works\", \"contact\"]]  # Elementos totais do X.\n",
        "y = data[\"bought\"]  # Elementos totais do Y.\n",
        "print(\"Size X: \" + str(x.shape))\n",
        "\n",
        "# Pegando cerca de 75% para treino e o resto para testes.\n",
        "train_x = x[:75]\n",
        "train_y = y[:75]\n",
        "test_x = x[75:]\n",
        "test_y = y[75:]\n",
        "\n",
        "print(\"Training with %d elements and testing with %d elements.\" % (len(train_x), len(test_x)))"
      ],
      "execution_count": 49,
      "outputs": [
        {
          "output_type": "stream",
          "text": [
            "Size X: (99, 3)\n",
            "Training with 75 elements and testing with 24 elements.\n"
          ],
          "name": "stdout"
        }
      ]
    },
    {
      "cell_type": "markdown",
      "metadata": {
        "id": "vJrVzu5JcagX",
        "colab_type": "text"
      },
      "source": [
        "Agora treinando essa geração do **sklearn**:"
      ]
    },
    {
      "cell_type": "code",
      "metadata": {
        "id": "z56e-zdFcgUe",
        "colab_type": "code",
        "colab": {
          "base_uri": "https://localhost:8080/",
          "height": 35
        },
        "outputId": "a2ba0150-7dde-4bb4-c011-4a53a8ee0f7d"
      },
      "source": [
        "page_model = LinearSVC()\n",
        "page_model.fit(train_x, train_y)\n",
        "\n",
        "page_predict = page_model.predict(test_x)\n",
        "page_score = accuracy_score(test_y, page_predict)\n",
        "print(\"Hit rate: %.2f\" % (page_score * 100), end=\"%\")"
      ],
      "execution_count": 53,
      "outputs": [
        {
          "output_type": "stream",
          "text": [
            "Hit rate: 95.83%"
          ],
          "name": "stdout"
        }
      ]
    },
    {
      "cell_type": "markdown",
      "metadata": {
        "id": "pDmA95BNe6h-",
        "colab_type": "text"
      },
      "source": [
        "Logicamente que esse processo pode ser automatizado, com a função **train_test_split**, do próprio **sklearn**."
      ]
    },
    {
      "cell_type": "code",
      "metadata": {
        "id": "7UgY7wcifE9v",
        "colab_type": "code",
        "colab": {
          "base_uri": "https://localhost:8080/",
          "height": 35
        },
        "outputId": "df01e794-b7e7-4e22-8953-8980024ef46a"
      },
      "source": [
        "from sklearn.model_selection import train_test_split\n",
        "\n",
        "SEED = 20  # Setando uma seed para não obtermos resultados inesperados.\n",
        "\n",
        "# Tentando fazer um equilíbrio no resultado também.\n",
        "train_x, test_x, train_y, test_y = train_test_split(x, y, random_state = SEED, test_size = 0.25, stratify = y)\n",
        "\n",
        "page_model = LinearSVC()\n",
        "page_model.fit(train_x, train_y)\n",
        "\n",
        "page_predict = page_model.predict(test_x)\n",
        "page_score = accuracy_score(test_y, page_predict)\n",
        "print(\"Hit rate: %.2f\" % (page_score * 100), end=\"%\")"
      ],
      "execution_count": 62,
      "outputs": [
        {
          "output_type": "stream",
          "text": [
            "Hit rate: 96.00%"
          ],
          "name": "stdout"
        }
      ]
    },
    {
      "cell_type": "markdown",
      "metadata": {
        "id": "KfEsgXjvhlcj",
        "colab_type": "text"
      },
      "source": [
        "> É sempre importante sabermos a proporção do treino com a proporção do teste, para sempre tentar manter uma constância, e para isso utilizamos o parâmetro **stratify**."
      ]
    }
  ]
}