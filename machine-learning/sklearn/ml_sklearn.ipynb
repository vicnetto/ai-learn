{
  "nbformat": 4,
  "nbformat_minor": 0,
  "metadata": {
    "colab": {
      "name": "ml-sklearn.ipynb",
      "provenance": [],
      "collapsed_sections": []
    },
    "kernelspec": {
      "name": "python3",
      "display_name": "Python 3"
    }
  },
  "cells": [
    {
      "cell_type": "markdown",
      "metadata": {
        "id": "TgjFcQ7Xuac_",
        "colab_type": "text"
      },
      "source": [
        "[![Open In Colab](https://colab.research.google.com/assets/colab-badge.svg)](https://colab.research.google.com/github/vicnetto/py-learn/blob/master/machine-learning/ml-sklearn/ml-sklearn.ipynb) \n",
        "> # Introdução ao **SKLearn**\n",
        "(ABRA PELO GOOGLE COLAB PARA MELHOR VISUALIZAÇÃO, ABRA COM UMA NOVA JANELA)"
      ]
    },
    {
      "cell_type": "markdown",
      "metadata": {
        "id": "T__lvzl4vU5n",
        "colab_type": "text"
      },
      "source": [
        "Dentro dessa pequena introdução, o objetivo é realizar algumas previsões com algoritmos de classificação, a partir de alguns passos: **features**, **itens**, **treino**, **teste**, **taxa de acerto**, **otimização** e **previsão**."
      ]
    },
    {
      "cell_type": "markdown",
      "metadata": {
        "id": "NHPKjlt90UUW",
        "colab_type": "text"
      },
      "source": [
        "## Iniciando o reconhecimento de padrões"
      ]
    },
    {
      "cell_type": "markdown",
      "metadata": {
        "id": "V4dWrXyz0YJG",
        "colab_type": "text"
      },
      "source": [
        ""
      ]
    }
  ]
}