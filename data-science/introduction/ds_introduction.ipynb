{
  "nbformat": 4,
  "nbformat_minor": 0,
  "metadata": {
    "colab": {
      "name": "ds_introduction.ipynb",
      "provenance": [],
      "collapsed_sections": [
        "RcxvgeZLXvpp",
        "U5TDxt88vHSD",
        "Dy2Dy_iEp11y",
        "r9XbM_-kTiDl",
        "UGZs1bX_bEBM"
      ],
      "toc_visible": true
    },
    "kernelspec": {
      "name": "python3",
      "display_name": "Python 3"
    }
  },
  "cells": [
    {
      "cell_type": "markdown",
      "metadata": {
        "id": "pVKFoE9DX0b1",
        "colab_type": "text"
      },
      "source": [
        "[![Open In Colab](https://colab.research.google.com/assets/colab-badge.svg)](https://colab.research.google.com/github/vicnetto/py-learn/blob/master/data-science/introduction/ds_introduction.ipyn) \n",
        "> # Introdução a Data Science\n",
        "(ABRA PELO GOOGLE COLAB PARA MELHOR VISUALIZAÇÃO)"
      ]
    },
    {
      "cell_type": "markdown",
      "metadata": {
        "id": "KS7bMvLkXYAu",
        "colab_type": "text"
      },
      "source": [
        "### Objetivo\n",
        "\n",
        "O objetivo desses pequenos markdown's é traduzir alguns cursos para o português e aprender um pouco sobre Ciência de Dados. Os conteúdos apresentados nessa pasta são de diversos cursos online, como Alura, Coursera e Udemy."
      ]
    },
    {
      "cell_type": "markdown",
      "metadata": {
        "id": "RcxvgeZLXvpp",
        "colab_type": "text"
      },
      "source": [
        "## Pandas\n"
      ]
    },
    {
      "cell_type": "markdown",
      "metadata": {
        "id": "e6bl8YDJelJa",
        "colab_type": "text"
      },
      "source": [
        "### O que é **Pandas**\n",
        "\n",
        "A biblioteca **Pandas** é utilizada para realizar a leitura dos arquivos .csv, onde os dados estão armazenados. Por exemplo, no código abaixo, estamos abrindo uma grande quantidade de notas de avaliações de filmes (retirado do site [MovieLens](https://grouplens.org/datasets/movielens/)), somente utilizando um comando da bibloteca.\n",
        "\n",
        "Primeiramente, é necessário um arquivo *.csv*, que será aberto pelo Python para explorar e começar a estudar os dados.\n",
        "\n",
        "> Um arquivo .csv (*comma separated value*) é um arquivo .txt com valores separados entre virgulas."
      ]
    },
    {
      "cell_type": "markdown",
      "metadata": {
        "id": "U5TDxt88vHSD",
        "colab_type": "text"
      },
      "source": [
        "## Abrindo as primeiras tabelas e alguns comandos básicos"
      ]
    },
    {
      "cell_type": "code",
      "metadata": {
        "id": "ecmrDUOkfCE5",
        "colab_type": "code",
        "colab": {
          "base_uri": "https://localhost:8080/",
          "height": 424
        },
        "outputId": "a4babf5b-7d0c-484d-e269-fc88f54be6e3"
      },
      "source": [
        "import pandas as pd\n",
        "\n",
        "notas = pd.read_csv(\"ratings.csv\")\n",
        "notas"
      ],
      "execution_count": null,
      "outputs": [
        {
          "output_type": "execute_result",
          "data": {
            "text/html": [
              "<div>\n",
              "<style scoped>\n",
              "    .dataframe tbody tr th:only-of-type {\n",
              "        vertical-align: middle;\n",
              "    }\n",
              "\n",
              "    .dataframe tbody tr th {\n",
              "        vertical-align: top;\n",
              "    }\n",
              "\n",
              "    .dataframe thead th {\n",
              "        text-align: right;\n",
              "    }\n",
              "</style>\n",
              "<table border=\"1\" class=\"dataframe\">\n",
              "  <thead>\n",
              "    <tr style=\"text-align: right;\">\n",
              "      <th></th>\n",
              "      <th>userId</th>\n",
              "      <th>movieId</th>\n",
              "      <th>rating</th>\n",
              "      <th>timestamp</th>\n",
              "    </tr>\n",
              "  </thead>\n",
              "  <tbody>\n",
              "    <tr>\n",
              "      <th>0</th>\n",
              "      <td>1</td>\n",
              "      <td>1</td>\n",
              "      <td>4.0</td>\n",
              "      <td>964982703</td>\n",
              "    </tr>\n",
              "    <tr>\n",
              "      <th>1</th>\n",
              "      <td>1</td>\n",
              "      <td>3</td>\n",
              "      <td>4.0</td>\n",
              "      <td>964981247</td>\n",
              "    </tr>\n",
              "    <tr>\n",
              "      <th>2</th>\n",
              "      <td>1</td>\n",
              "      <td>6</td>\n",
              "      <td>4.0</td>\n",
              "      <td>964982224</td>\n",
              "    </tr>\n",
              "    <tr>\n",
              "      <th>3</th>\n",
              "      <td>1</td>\n",
              "      <td>47</td>\n",
              "      <td>5.0</td>\n",
              "      <td>964983815</td>\n",
              "    </tr>\n",
              "    <tr>\n",
              "      <th>4</th>\n",
              "      <td>1</td>\n",
              "      <td>50</td>\n",
              "      <td>5.0</td>\n",
              "      <td>964982931</td>\n",
              "    </tr>\n",
              "    <tr>\n",
              "      <th>...</th>\n",
              "      <td>...</td>\n",
              "      <td>...</td>\n",
              "      <td>...</td>\n",
              "      <td>...</td>\n",
              "    </tr>\n",
              "    <tr>\n",
              "      <th>100831</th>\n",
              "      <td>610</td>\n",
              "      <td>166534</td>\n",
              "      <td>4.0</td>\n",
              "      <td>1493848402</td>\n",
              "    </tr>\n",
              "    <tr>\n",
              "      <th>100832</th>\n",
              "      <td>610</td>\n",
              "      <td>168248</td>\n",
              "      <td>5.0</td>\n",
              "      <td>1493850091</td>\n",
              "    </tr>\n",
              "    <tr>\n",
              "      <th>100833</th>\n",
              "      <td>610</td>\n",
              "      <td>168250</td>\n",
              "      <td>5.0</td>\n",
              "      <td>1494273047</td>\n",
              "    </tr>\n",
              "    <tr>\n",
              "      <th>100834</th>\n",
              "      <td>610</td>\n",
              "      <td>168252</td>\n",
              "      <td>5.0</td>\n",
              "      <td>1493846352</td>\n",
              "    </tr>\n",
              "    <tr>\n",
              "      <th>100835</th>\n",
              "      <td>610</td>\n",
              "      <td>170875</td>\n",
              "      <td>3.0</td>\n",
              "      <td>1493846415</td>\n",
              "    </tr>\n",
              "  </tbody>\n",
              "</table>\n",
              "<p>100836 rows × 4 columns</p>\n",
              "</div>"
            ],
            "text/plain": [
              "        userId  movieId  rating   timestamp\n",
              "0            1        1     4.0   964982703\n",
              "1            1        3     4.0   964981247\n",
              "2            1        6     4.0   964982224\n",
              "3            1       47     5.0   964983815\n",
              "4            1       50     5.0   964982931\n",
              "...        ...      ...     ...         ...\n",
              "100831     610   166534     4.0  1493848402\n",
              "100832     610   168248     5.0  1493850091\n",
              "100833     610   168250     5.0  1494273047\n",
              "100834     610   168252     5.0  1493846352\n",
              "100835     610   170875     3.0  1493846415\n",
              "\n",
              "[100836 rows x 4 columns]"
            ]
          },
          "metadata": {
            "tags": []
          },
          "execution_count": 1
        }
      ]
    },
    {
      "cell_type": "markdown",
      "metadata": {
        "id": "-eqTGJ5TiLJR",
        "colab_type": "text"
      },
      "source": [
        "Ou podemos simplesmente apresentar apenas os **primeiros cinco elementos** dessa lista, do seguinte modo:\n"
      ]
    },
    {
      "cell_type": "code",
      "metadata": {
        "id": "EJPKqhbQiVRR",
        "colab_type": "code",
        "colab": {
          "base_uri": "https://localhost:8080/",
          "height": 206
        },
        "outputId": "87f7ec0e-6922-4ecb-ffd3-25349623e790"
      },
      "source": [
        "notas.head()"
      ],
      "execution_count": null,
      "outputs": [
        {
          "output_type": "execute_result",
          "data": {
            "text/html": [
              "<div>\n",
              "<style scoped>\n",
              "    .dataframe tbody tr th:only-of-type {\n",
              "        vertical-align: middle;\n",
              "    }\n",
              "\n",
              "    .dataframe tbody tr th {\n",
              "        vertical-align: top;\n",
              "    }\n",
              "\n",
              "    .dataframe thead th {\n",
              "        text-align: right;\n",
              "    }\n",
              "</style>\n",
              "<table border=\"1\" class=\"dataframe\">\n",
              "  <thead>\n",
              "    <tr style=\"text-align: right;\">\n",
              "      <th></th>\n",
              "      <th>userId</th>\n",
              "      <th>movieId</th>\n",
              "      <th>rating</th>\n",
              "      <th>timestamp</th>\n",
              "    </tr>\n",
              "  </thead>\n",
              "  <tbody>\n",
              "    <tr>\n",
              "      <th>0</th>\n",
              "      <td>1</td>\n",
              "      <td>1</td>\n",
              "      <td>4.0</td>\n",
              "      <td>964982703</td>\n",
              "    </tr>\n",
              "    <tr>\n",
              "      <th>1</th>\n",
              "      <td>1</td>\n",
              "      <td>3</td>\n",
              "      <td>4.0</td>\n",
              "      <td>964981247</td>\n",
              "    </tr>\n",
              "    <tr>\n",
              "      <th>2</th>\n",
              "      <td>1</td>\n",
              "      <td>6</td>\n",
              "      <td>4.0</td>\n",
              "      <td>964982224</td>\n",
              "    </tr>\n",
              "    <tr>\n",
              "      <th>3</th>\n",
              "      <td>1</td>\n",
              "      <td>47</td>\n",
              "      <td>5.0</td>\n",
              "      <td>964983815</td>\n",
              "    </tr>\n",
              "    <tr>\n",
              "      <th>4</th>\n",
              "      <td>1</td>\n",
              "      <td>50</td>\n",
              "      <td>5.0</td>\n",
              "      <td>964982931</td>\n",
              "    </tr>\n",
              "  </tbody>\n",
              "</table>\n",
              "</div>"
            ],
            "text/plain": [
              "   userId  movieId  rating  timestamp\n",
              "0       1        1     4.0  964982703\n",
              "1       1        3     4.0  964981247\n",
              "2       1        6     4.0  964982224\n",
              "3       1       47     5.0  964983815\n",
              "4       1       50     5.0  964982931"
            ]
          },
          "metadata": {
            "tags": []
          },
          "execution_count": 2
        }
      ]
    },
    {
      "cell_type": "markdown",
      "metadata": {
        "id": "E_cxsOhGiweP",
        "colab_type": "text"
      },
      "source": [
        "Para saber a **quantidade de elementos** que estão sendo apresentados e **quantas colunas** existem nesse arquivo, podemos acessar com:"
      ]
    },
    {
      "cell_type": "code",
      "metadata": {
        "id": "9g67CPJqi3Xu",
        "colab_type": "code",
        "colab": {
          "base_uri": "https://localhost:8080/",
          "height": 34
        },
        "outputId": "19b118c1-2cec-43e7-99d8-071c912e5f78"
      },
      "source": [
        "notas.shape"
      ],
      "execution_count": null,
      "outputs": [
        {
          "output_type": "execute_result",
          "data": {
            "text/plain": [
              "(100836, 4)"
            ]
          },
          "metadata": {
            "tags": []
          },
          "execution_count": 3
        }
      ]
    },
    {
      "cell_type": "markdown",
      "metadata": {
        "id": "uNPZlPY6kXjy",
        "colab_type": "text"
      },
      "source": [
        "Para alterar o **nome das colunas** é possível inserir o comando *colums*, próprio do pacote Pandas, na seguinte forma:"
      ]
    },
    {
      "cell_type": "code",
      "metadata": {
        "id": "6ZlIeh92km57",
        "colab_type": "code",
        "colab": {
          "base_uri": "https://localhost:8080/",
          "height": 206
        },
        "outputId": "182568ee-191a-4eb8-9de6-adb9e983dd0b"
      },
      "source": [
        "notas.columns = [\"usuarioID\", \"filmeID\", \"nota\", \"tempo\"]\n",
        "notas.head()"
      ],
      "execution_count": null,
      "outputs": [
        {
          "output_type": "execute_result",
          "data": {
            "text/html": [
              "<div>\n",
              "<style scoped>\n",
              "    .dataframe tbody tr th:only-of-type {\n",
              "        vertical-align: middle;\n",
              "    }\n",
              "\n",
              "    .dataframe tbody tr th {\n",
              "        vertical-align: top;\n",
              "    }\n",
              "\n",
              "    .dataframe thead th {\n",
              "        text-align: right;\n",
              "    }\n",
              "</style>\n",
              "<table border=\"1\" class=\"dataframe\">\n",
              "  <thead>\n",
              "    <tr style=\"text-align: right;\">\n",
              "      <th></th>\n",
              "      <th>usuarioID</th>\n",
              "      <th>filmeID</th>\n",
              "      <th>nota</th>\n",
              "      <th>tempo</th>\n",
              "    </tr>\n",
              "  </thead>\n",
              "  <tbody>\n",
              "    <tr>\n",
              "      <th>0</th>\n",
              "      <td>1</td>\n",
              "      <td>1</td>\n",
              "      <td>4.0</td>\n",
              "      <td>964982703</td>\n",
              "    </tr>\n",
              "    <tr>\n",
              "      <th>1</th>\n",
              "      <td>1</td>\n",
              "      <td>3</td>\n",
              "      <td>4.0</td>\n",
              "      <td>964981247</td>\n",
              "    </tr>\n",
              "    <tr>\n",
              "      <th>2</th>\n",
              "      <td>1</td>\n",
              "      <td>6</td>\n",
              "      <td>4.0</td>\n",
              "      <td>964982224</td>\n",
              "    </tr>\n",
              "    <tr>\n",
              "      <th>3</th>\n",
              "      <td>1</td>\n",
              "      <td>47</td>\n",
              "      <td>5.0</td>\n",
              "      <td>964983815</td>\n",
              "    </tr>\n",
              "    <tr>\n",
              "      <th>4</th>\n",
              "      <td>1</td>\n",
              "      <td>50</td>\n",
              "      <td>5.0</td>\n",
              "      <td>964982931</td>\n",
              "    </tr>\n",
              "  </tbody>\n",
              "</table>\n",
              "</div>"
            ],
            "text/plain": [
              "   usuarioID  filmeID  nota      tempo\n",
              "0          1        1   4.0  964982703\n",
              "1          1        3   4.0  964981247\n",
              "2          1        6   4.0  964982224\n",
              "3          1       47   5.0  964983815\n",
              "4          1       50   5.0  964982931"
            ]
          },
          "metadata": {
            "tags": []
          },
          "execution_count": 4
        }
      ]
    },
    {
      "cell_type": "markdown",
      "metadata": {
        "id": "yRkEdPgDlSge",
        "colab_type": "text"
      },
      "source": [
        "Existem diversas funções para essas tabelas (conhecidas como **dataframes**), que podem ser procuradas na documentação.\n",
        "\n",
        "Agora, podemos mexer somente com algumas colunas, e trabalhar com dados somente delas (conhecidas como **series**), do seguinte jeito:"
      ]
    },
    {
      "cell_type": "code",
      "metadata": {
        "id": "Fq9KcYbkl0Ef",
        "colab_type": "code",
        "colab": {
          "base_uri": "https://localhost:8080/",
          "height": 225
        },
        "outputId": "5490f77b-e47b-49b8-cf13-39ba3b397bbc"
      },
      "source": [
        "notas['nota']"
      ],
      "execution_count": null,
      "outputs": [
        {
          "output_type": "execute_result",
          "data": {
            "text/plain": [
              "0         4.0\n",
              "1         4.0\n",
              "2         4.0\n",
              "3         5.0\n",
              "4         5.0\n",
              "         ... \n",
              "100831    4.0\n",
              "100832    5.0\n",
              "100833    5.0\n",
              "100834    5.0\n",
              "100835    3.0\n",
              "Name: nota, Length: 100836, dtype: float64"
            ]
          },
          "metadata": {
            "tags": []
          },
          "execution_count": 5
        }
      ]
    },
    {
      "cell_type": "markdown",
      "metadata": {
        "id": "Mqt4PVS-mVdK",
        "colab_type": "text"
      },
      "source": [
        "E assim como as **dataframes**, existem diversas funções que podem ser acessadas nas **series**, como para ver quais são os unicos elementos utilizando a função *unique()*, ver a quantidade de cada uma com *value_counts()* e calcular alguns valores sobre o nosso gráfico:\n",
        "\n",
        "> Um destaque para o comando *describe()*, que mostra alguns valores consideravelmente importantes."
      ]
    },
    {
      "cell_type": "code",
      "metadata": {
        "id": "xwkjBUgAmmyN",
        "colab_type": "code",
        "colab": {
          "base_uri": "https://localhost:8080/",
          "height": 451
        },
        "outputId": "f48c2756-4df8-4d08-875e-ade8e5b34de5"
      },
      "source": [
        "print(notas['nota'].unique())  # Vê elementos únicos.\n",
        "print(\"---------------\")\n",
        "print(notas['nota'].value_counts())  # Vê a quantidade de cada um.\n",
        "print(\"---------------\")\n",
        "print(\"Media:\", notas['nota'].mean())  # Calcula a média de todas as notas.\n",
        "print(\"Mediana:\", notas['nota'].median())  # Calcula a mediana das notas.\n",
        "notas.nota.describe()  # Calcula alguns valores considerados importantes."
      ],
      "execution_count": null,
      "outputs": [
        {
          "output_type": "stream",
          "text": [
            "[4.  5.  3.  2.  1.  4.5 3.5 2.5 0.5 1.5]\n",
            "---------------\n",
            "4.0    26818\n",
            "3.0    20047\n",
            "5.0    13211\n",
            "3.5    13136\n",
            "4.5     8551\n",
            "2.0     7551\n",
            "2.5     5550\n",
            "1.0     2811\n",
            "1.5     1791\n",
            "0.5     1370\n",
            "Name: nota, dtype: int64\n",
            "---------------\n",
            "Media: 3.501556983616962\n",
            "Mediana: 3.5\n"
          ],
          "name": "stdout"
        },
        {
          "output_type": "execute_result",
          "data": {
            "text/plain": [
              "count    100836.000000\n",
              "mean          3.501557\n",
              "std           1.042529\n",
              "min           0.500000\n",
              "25%           3.000000\n",
              "50%           3.500000\n",
              "75%           4.000000\n",
              "max           5.000000\n",
              "Name: nota, dtype: float64"
            ]
          },
          "metadata": {
            "tags": []
          },
          "execution_count": 6
        }
      ]
    },
    {
      "cell_type": "markdown",
      "metadata": {
        "id": "Dy2Dy_iEp11y",
        "colab_type": "text"
      },
      "source": [
        "## Visualizando dados com *histograma* e *boxplot* com **seaborn**"
      ]
    },
    {
      "cell_type": "markdown",
      "metadata": {
        "id": "3xQhneQqp94u",
        "colab_type": "text"
      },
      "source": [
        "Um comando extremamente importante é o para **plotar** o gráfico. Certamente existem diversos meios de plotar o gráfico e diversas relações que podemos ter, mas nesse exemplo iremos utilizar o *histograma*, que basicamente mostra cada quantidade mas em colunas verticais, para realmente separar os dados. Para printar um gráfico utilizaremos a função *plot()*:\n",
        "\n",
        "> Agora estamos utilizando **notas.nota** para representar somente a coluna, sem precisar ficar procurando pela coluna e indo direto pelo nome."
      ]
    },
    {
      "cell_type": "code",
      "metadata": {
        "id": "sbj8wmEHrttU",
        "colab_type": "code",
        "colab": {
          "base_uri": "https://localhost:8080/"
        },
        "outputId": "4cd389d6-7464-478e-a6c9-9e7336b592c0"
      },
      "source": [
        "notas.nota.plot(kind='hist')"
      ],
      "execution_count": null,
      "outputs": [
        {
          "output_type": "execute_result",
          "data": {
            "text/plain": [
              "<matplotlib.axes._subplots.AxesSubplot at 0x7fd75d9e8390>"
            ]
          },
          "metadata": {
            "tags": []
          },
          "execution_count": 7
        },
        {
          "output_type": "display_data",
          "data": {
            "image/png": "[encoded data removed]",
            "text/plain": [
              "<Figure size 432x288 with 1 Axes>"
            ]
          },
          "metadata": {
            "tags": [],
            "needs_background": "light"
          }
        }
      ]
    },
    {
      "cell_type": "markdown",
      "metadata": {
        "id": "0GcSrwD5xiyI",
        "colab_type": "text"
      },
      "source": [
        "Agora, com o **seaborn**, podemos apresentar um gráfico diferente conhecido como **boxplot**, onde apresenta todas as grandes informações em apenas um gráfico:"
      ]
    },
    {
      "cell_type": "code",
      "metadata": {
        "id": "3T0AoLewxuo1",
        "colab_type": "code",
        "colab": {
          "base_uri": "https://localhost:8080/"
        },
        "outputId": "4f16f3fd-ed08-4cd9-a11d-54915017e274"
      },
      "source": [
        "import seaborn as sns\n",
        "\n",
        "sns.boxplot(notas.nota)"
      ],
      "execution_count": null,
      "outputs": [
        {
          "output_type": "stream",
          "text": [
            "/usr/local/lib/python3.6/dist-packages/statsmodels/tools/_testing.py:19: FutureWarning: pandas.util.testing is deprecated. Use the functions in the public API at pandas.testing instead.\n",
            "  import pandas.util.testing as tm\n"
          ],
          "name": "stderr"
        },
        {
          "output_type": "execute_result",
          "data": {
            "text/plain": [
              "<matplotlib.axes._subplots.AxesSubplot at 0x7fd7531a2eb8>"
            ]
          },
          "metadata": {
            "tags": []
          },
          "execution_count": 8
        },
        {
          "output_type": "display_data",
          "data": {
            "image/png": "[encoded data removed]",
            "text/plain": [
              "<Figure size 432x288 with 1 Axes>"
            ]
          },
          "metadata": {
            "tags": [],
            "needs_background": "light"
          }
        }
      ]
    },
    {
      "cell_type": "markdown",
      "metadata": {
        "id": "pdOh3zIsx7Rd",
        "colab_type": "text"
      },
      "source": [
        "> Como *curiosidade*, as duas barras azuis representam 50% dos dados, enquanto os outros \"braços\" representam mais 25% para cada um dos lados."
      ]
    },
    {
      "cell_type": "markdown",
      "metadata": {
        "id": "r9XbM_-kTiDl",
        "colab_type": "text"
      },
      "source": [
        "## Comparando as notas dos filmes"
      ]
    },
    {
      "cell_type": "markdown",
      "metadata": {
        "id": "p9zdBL2YToXI",
        "colab_type": "text"
      },
      "source": [
        "Para tirar algumas referências agora, podemos ver quais são os filmes que apresentam esses dados. Para fazer isso, só é necessário procurar o ID certo no arquivo *ratings.csv*. Então primeiramente, vamos ver os primeiros 5 fillmes do *moveis.csv*:"
      ]
    },
    {
      "cell_type": "code",
      "metadata": {
        "id": "YMoPJX6aURDW",
        "colab_type": "code",
        "colab": {
          "base_uri": "https://localhost:8080/"
        },
        "outputId": "00950f08-1485-4437-e16f-eef18709c61a"
      },
      "source": [
        "movies = pd.read_csv(\"movies.csv\")  # Lê o arquivo.\n",
        "movies.columns = [\"filmeID\", \"titulo\", \"genero\"]  # Altera o nome das colunas.\n",
        "movies.head()  # Mostra os 5 primeiros arquivos."
      ],
      "execution_count": null,
      "outputs": [
        {
          "output_type": "execute_result",
          "data": {
            "text/html": [
              "<div>\n",
              "<style scoped>\n",
              "    .dataframe tbody tr th:only-of-type {\n",
              "        vertical-align: middle;\n",
              "    }\n",
              "\n",
              "    .dataframe tbody tr th {\n",
              "        vertical-align: top;\n",
              "    }\n",
              "\n",
              "    .dataframe thead th {\n",
              "        text-align: right;\n",
              "    }\n",
              "</style>\n",
              "<table border=\"1\" class=\"dataframe\">\n",
              "  <thead>\n",
              "    <tr style=\"text-align: right;\">\n",
              "      <th></th>\n",
              "      <th>filmeID</th>\n",
              "      <th>titulo</th>\n",
              "      <th>genero</th>\n",
              "    </tr>\n",
              "  </thead>\n",
              "  <tbody>\n",
              "    <tr>\n",
              "      <th>0</th>\n",
              "      <td>1</td>\n",
              "      <td>Toy Story (1995)</td>\n",
              "      <td>Adventure|Animation|Children|Comedy|Fantasy</td>\n",
              "    </tr>\n",
              "    <tr>\n",
              "      <th>1</th>\n",
              "      <td>2</td>\n",
              "      <td>Jumanji (1995)</td>\n",
              "      <td>Adventure|Children|Fantasy</td>\n",
              "    </tr>\n",
              "    <tr>\n",
              "      <th>2</th>\n",
              "      <td>3</td>\n",
              "      <td>Grumpier Old Men (1995)</td>\n",
              "      <td>Comedy|Romance</td>\n",
              "    </tr>\n",
              "    <tr>\n",
              "      <th>3</th>\n",
              "      <td>4</td>\n",
              "      <td>Waiting to Exhale (1995)</td>\n",
              "      <td>Comedy|Drama|Romance</td>\n",
              "    </tr>\n",
              "    <tr>\n",
              "      <th>4</th>\n",
              "      <td>5</td>\n",
              "      <td>Father of the Bride Part II (1995)</td>\n",
              "      <td>Comedy</td>\n",
              "    </tr>\n",
              "  </tbody>\n",
              "</table>\n",
              "</div>"
            ],
            "text/plain": [
              "   filmeID  ...                                       genero\n",
              "0        1  ...  Adventure|Animation|Children|Comedy|Fantasy\n",
              "1        2  ...                   Adventure|Children|Fantasy\n",
              "2        3  ...                               Comedy|Romance\n",
              "3        4  ...                         Comedy|Drama|Romance\n",
              "4        5  ...                                       Comedy\n",
              "\n",
              "[5 rows x 3 columns]"
            ]
          },
          "metadata": {
            "tags": []
          },
          "execution_count": 9
        }
      ]
    },
    {
      "cell_type": "markdown",
      "metadata": {
        "id": "_VdY4rBPU1lM",
        "colab_type": "text"
      },
      "source": [
        "Agora, é possível tirar algumas primeiras conclusões. Procurando no *ratings.csv* um pouco sobre o filme _Toy Story_, encontramos que a sua **média** é:"
      ]
    },
    {
      "cell_type": "code",
      "metadata": {
        "id": "fKk352NRVNqj",
        "colab_type": "code",
        "colab": {
          "base_uri": "https://localhost:8080/"
        },
        "outputId": "57fa1811-559f-4065-dd5d-551297d7d06c"
      },
      "source": [
        "notas.query(\"filmeID==1\").nota.mean()  # Query faz uma \"pergunta\", retornando todas as avaliações de Toy Story, assim sendo fácil tirar a média."
      ],
      "execution_count": null,
      "outputs": [
        {
          "output_type": "execute_result",
          "data": {
            "text/plain": [
              "3.9209302325581397"
            ]
          },
          "metadata": {
            "tags": []
          },
          "execution_count": 10
        }
      ]
    },
    {
      "cell_type": "markdown",
      "metadata": {
        "id": "GaqC_fmnX5TF",
        "colab_type": "text"
      },
      "source": [
        "Tirando agora dados de todos os filmes, é possível fazer o seguinte:"
      ]
    },
    {
      "cell_type": "code",
      "metadata": {
        "id": "qcIy1XZDX-Os",
        "colab_type": "code",
        "colab": {
          "base_uri": "https://localhost:8080/"
        },
        "outputId": "576a77b6-ba9b-43bc-9d87-ac1475f379df"
      },
      "source": [
        "media_filmes = notas.groupby(\"filmeID\").mean().nota  # Agrupando em relação ao filmeID e calculando as devidas médias.\n",
        "media_filmes"
      ],
      "execution_count": null,
      "outputs": [
        {
          "output_type": "execute_result",
          "data": {
            "text/plain": [
              "filmeID\n",
              "1         3.920930\n",
              "2         3.431818\n",
              "3         3.259615\n",
              "4         2.357143\n",
              "5         3.071429\n",
              "            ...   \n",
              "193581    4.000000\n",
              "193583    3.500000\n",
              "193585    3.500000\n",
              "193587    3.500000\n",
              "193609    4.000000\n",
              "Name: nota, Length: 9724, dtype: float64"
            ]
          },
          "metadata": {
            "tags": []
          },
          "execution_count": 11
        }
      ]
    },
    {
      "cell_type": "markdown",
      "metadata": {
        "id": "Z2P5Q4YlY0l2",
        "colab_type": "text"
      },
      "source": [
        "E plotando tudo em um *histograma* para fazer o estudo dos dados:"
      ]
    },
    {
      "cell_type": "code",
      "metadata": {
        "id": "si4FYPBGY5V2",
        "colab_type": "code",
        "colab": {
          "base_uri": "https://localhost:8080/"
        },
        "outputId": "f7104b8a-2565-4ae8-f8db-2a0b16dbfbd8"
      },
      "source": [
        "media_filmes.plot(kind='hist')"
      ],
      "execution_count": null,
      "outputs": [
        {
          "output_type": "execute_result",
          "data": {
            "text/plain": [
              "<matplotlib.axes._subplots.AxesSubplot at 0x7fd7526da3c8>"
            ]
          },
          "metadata": {
            "tags": []
          },
          "execution_count": 12
        },
        {
          "output_type": "display_data",
          "data": {
            "image/png": "[encoded data removed]",
            "text/plain": [
              "<Figure size 432x288 with 1 Axes>"
            ]
          },
          "metadata": {
            "tags": [],
            "needs_background": "light"
          }
        }
      ]
    },
    {
      "cell_type": "code",
      "metadata": {
        "id": "UgzUpAYVZPhs",
        "colab_type": "code",
        "colab": {
          "base_uri": "https://localhost:8080/"
        },
        "outputId": "f10a07bb-8e56-4e02-d35f-1ac7a22fd748"
      },
      "source": [
        "sns.boxplot(media_filmes)"
      ],
      "execution_count": null,
      "outputs": [
        {
          "output_type": "execute_result",
          "data": {
            "text/plain": [
              "<matplotlib.axes._subplots.AxesSubplot at 0x7fd75167c630>"
            ]
          },
          "metadata": {
            "tags": []
          },
          "execution_count": 13
        },
        {
          "output_type": "display_data",
          "data": {
            "image/png": "[encoded data removed]",
            "text/plain": [
              "<Figure size 432x288 with 1 Axes>"
            ]
          },
          "metadata": {
            "tags": [],
            "needs_background": "light"
          }
        }
      ]
    },
    {
      "cell_type": "markdown",
      "metadata": {
        "id": "yjaJV_SSjL45",
        "colab_type": "text"
      },
      "source": [
        "Podemos também fazer um *sns.boxplot()* junto com **vários dados**, para ser possível a comparação mais clara:"
      ]
    },
    {
      "cell_type": "code",
      "metadata": {
        "id": "AAi5GNwwjSgX",
        "colab_type": "code",
        "colab": {
          "base_uri": "https://localhost:8080/"
        },
        "outputId": "2fbfe287-2c06-4a6e-fb13-40cf6b1cdf6a"
      },
      "source": [
        "print(movies.query(\"filmeID in [1, 2, 3, 4, 5]\").titulo)\n",
        "print(\"\\n\")\n",
        "sns.boxplot(x = \"filmeID\", y = \"nota\", data = notas.query(\"filmeID in [1, 2, 3, 4, 5]\"))"
      ],
      "execution_count": null,
      "outputs": [
        {
          "output_type": "stream",
          "text": [
            "0                      Toy Story (1995)\n",
            "1                        Jumanji (1995)\n",
            "2               Grumpier Old Men (1995)\n",
            "3              Waiting to Exhale (1995)\n",
            "4    Father of the Bride Part II (1995)\n",
            "Name: titulo, dtype: object\n",
            "\n",
            "\n"
          ],
          "name": "stdout"
        },
        {
          "output_type": "execute_result",
          "data": {
            "text/plain": [
              "<matplotlib.axes._subplots.AxesSubplot at 0x7fd7515d1588>"
            ]
          },
          "metadata": {
            "tags": []
          },
          "execution_count": 14
        },
        {
          "output_type": "display_data",
          "data": {
            "image/png": "[encoded data removed]",
            "text/plain": [
              "<Figure size 432x288 with 1 Axes>"
            ]
          },
          "metadata": {
            "tags": [],
            "needs_background": "light"
          }
        }
      ]
    },
    {
      "cell_type": "markdown",
      "metadata": {
        "id": "kiJ4O_X2j4s9",
        "colab_type": "text"
      },
      "source": [
        "> É sempre importante lembrar que não existe bibloteca correta para ser usada, podemos usar o **seaborn**, **pandas** ou **matplotlib**, todas são plenamente usáveis, porém apresentam gráficos diferentes. Tudo depende do que está sendo mostrado."
      ]
    },
    {
      "cell_type": "markdown",
      "metadata": {
        "id": "UGZs1bX_bEBM",
        "colab_type": "text"
      },
      "source": [
        "### Usando a biblioteca **matplotlib**\n",
        "\n",
        "Como por de baixo dos panos a biblioteca **matplotlib** é utilizada por todas as grandes bibliotecas, também podemos utilizar dela para alterar dados como o **tamanho** do nosso gráfico."
      ]
    },
    {
      "cell_type": "code",
      "metadata": {
        "id": "boSRxWL6bjkt",
        "colab_type": "code",
        "colab": {
          "base_uri": "https://localhost:8080/"
        },
        "outputId": "5ff06399-6dc2-4441-a4ea-94a77bfaa6a6"
      },
      "source": [
        "import matplotlib.pyplot as plt\n",
        "\n",
        "plt.figure(figsize=(5,8))  # Alterando o tamanho da imagem, para melhor visualização.\n",
        "sns.boxplot(y=media_filmes)  # Alterando o eixo com a igualdade y."
      ],
      "execution_count": null,
      "outputs": [
        {
          "output_type": "execute_result",
          "data": {
            "text/plain": [
              "<matplotlib.axes._subplots.AxesSubplot at 0x7fd75e2ad630>"
            ]
          },
          "metadata": {
            "tags": []
          },
          "execution_count": 15
        },
        {
          "output_type": "display_data",
          "data": {
            "image/png": "[encoded data removed]",
            "text/plain": [
              "<Figure size 360x576 with 1 Axes>"
            ]
          },
          "metadata": {
            "tags": [],
            "needs_background": "light"
          }
        }
      ]
    },
    {
      "cell_type": "markdown",
      "metadata": {
        "id": "XdEJqLbQ22tA",
        "colab_type": "text"
      },
      "source": [
        "## Utilizando agora o **TMDB**\n",
        "\n",
        "Os dados dessa parte foram retirados do site [TMDB](https://www.kaggle.com/tmdb/tmdb-movie-metadata/data).\n",
        "\n",
        "> Quando temos apenas nomes em uma coluna, dizemos que é uma categoria **nominal**. Igual quando temos uma coluna apenas com números, mas que não tem significado realmente numérico, onde chamamos de categórica **ordinal**."
      ]
    },
    {
      "cell_type": "code",
      "metadata": {
        "id": "BAeLNHca29QV",
        "colab_type": "code",
        "colab": {
          "base_uri": "https://localhost:8080/",
          "height": 730
        },
        "outputId": "3b19298f-10d5-4173-d301-de52befffdc9"
      },
      "source": [
        "tmdb = pd.read_csv(\"tmdb_5000_movies.csv\")  # Lendo o arquivo de texto e apresentando em formato de tabela (dataframe).\n",
        "tmdb.head()  # Mostrando os 5 primeiros elementos"
      ],
      "execution_count": null,
      "outputs": [
        {
          "output_type": "execute_result",
          "data": {
            "text/html": [
              "<div>\n",
              "<style scoped>\n",
              "    .dataframe tbody tr th:only-of-type {\n",
              "        vertical-align: middle;\n",
              "    }\n",
              "\n",
              "    .dataframe tbody tr th {\n",
              "        vertical-align: top;\n",
              "    }\n",
              "\n",
              "    .dataframe thead th {\n",
              "        text-align: right;\n",
              "    }\n",
              "</style>\n",
              "<table border=\"1\" class=\"dataframe\">\n",
              "  <thead>\n",
              "    <tr style=\"text-align: right;\">\n",
              "      <th></th>\n",
              "      <th>budget</th>\n",
              "      <th>genres</th>\n",
              "      <th>homepage</th>\n",
              "      <th>id</th>\n",
              "      <th>keywords</th>\n",
              "      <th>original_language</th>\n",
              "      <th>original_title</th>\n",
              "      <th>overview</th>\n",
              "      <th>popularity</th>\n",
              "      <th>production_companies</th>\n",
              "      <th>production_countries</th>\n",
              "      <th>release_date</th>\n",
              "      <th>revenue</th>\n",
              "      <th>runtime</th>\n",
              "      <th>spoken_languages</th>\n",
              "      <th>status</th>\n",
              "      <th>tagline</th>\n",
              "      <th>title</th>\n",
              "      <th>vote_average</th>\n",
              "      <th>vote_count</th>\n",
              "    </tr>\n",
              "  </thead>\n",
              "  <tbody>\n",
              "    <tr>\n",
              "      <th>0</th>\n",
              "      <td>237000000</td>\n",
              "      <td>[{\"id\": 28, \"name\": \"Action\"}, {\"id\": 12, \"nam...</td>\n",
              "      <td>http://www.avatarmovie.com/</td>\n",
              "      <td>19995</td>\n",
              "      <td>[{\"id\": 1463, \"name\": \"culture clash\"}, {\"id\":...</td>\n",
              "      <td>en</td>\n",
              "      <td>Avatar</td>\n",
              "      <td>In the 22nd century, a paraplegic Marine is di...</td>\n",
              "      <td>150.437577</td>\n",
              "      <td>[{\"name\": \"Ingenious Film Partners\", \"id\": 289...</td>\n",
              "      <td>[{\"iso_3166_1\": \"US\", \"name\": \"United States o...</td>\n",
              "      <td>2009-12-10</td>\n",
              "      <td>2787965087</td>\n",
              "      <td>162.0</td>\n",
              "      <td>[{\"iso_639_1\": \"en\", \"name\": \"English\"}, {\"iso...</td>\n",
              "      <td>Released</td>\n",
              "      <td>Enter the World of Pandora.</td>\n",
              "      <td>Avatar</td>\n",
              "      <td>7.2</td>\n",
              "      <td>11800</td>\n",
              "    </tr>\n",
              "    <tr>\n",
              "      <th>1</th>\n",
              "      <td>300000000</td>\n",
              "      <td>[{\"id\": 12, \"name\": \"Adventure\"}, {\"id\": 14, \"...</td>\n",
              "      <td>http://disney.go.com/disneypictures/pirates/</td>\n",
              "      <td>285</td>\n",
              "      <td>[{\"id\": 270, \"name\": \"ocean\"}, {\"id\": 726, \"na...</td>\n",
              "      <td>en</td>\n",
              "      <td>Pirates of the Caribbean: At World's End</td>\n",
              "      <td>Captain Barbossa, long believed to be dead, ha...</td>\n",
              "      <td>139.082615</td>\n",
              "      <td>[{\"name\": \"Walt Disney Pictures\", \"id\": 2}, {\"...</td>\n",
              "      <td>[{\"iso_3166_1\": \"US\", \"name\": \"United States o...</td>\n",
              "      <td>2007-05-19</td>\n",
              "      <td>961000000</td>\n",
              "      <td>169.0</td>\n",
              "      <td>[{\"iso_639_1\": \"en\", \"name\": \"English\"}]</td>\n",
              "      <td>Released</td>\n",
              "      <td>At the end of the world, the adventure begins.</td>\n",
              "      <td>Pirates of the Caribbean: At World's End</td>\n",
              "      <td>6.9</td>\n",
              "      <td>4500</td>\n",
              "    </tr>\n",
              "    <tr>\n",
              "      <th>2</th>\n",
              "      <td>245000000</td>\n",
              "      <td>[{\"id\": 28, \"name\": \"Action\"}, {\"id\": 12, \"nam...</td>\n",
              "      <td>http://www.sonypictures.com/movies/spectre/</td>\n",
              "      <td>206647</td>\n",
              "      <td>[{\"id\": 470, \"name\": \"spy\"}, {\"id\": 818, \"name...</td>\n",
              "      <td>en</td>\n",
              "      <td>Spectre</td>\n",
              "      <td>A cryptic message from Bond’s past sends him o...</td>\n",
              "      <td>107.376788</td>\n",
              "      <td>[{\"name\": \"Columbia Pictures\", \"id\": 5}, {\"nam...</td>\n",
              "      <td>[{\"iso_3166_1\": \"GB\", \"name\": \"United Kingdom\"...</td>\n",
              "      <td>2015-10-26</td>\n",
              "      <td>880674609</td>\n",
              "      <td>148.0</td>\n",
              "      <td>[{\"iso_639_1\": \"fr\", \"name\": \"Fran\\u00e7ais\"},...</td>\n",
              "      <td>Released</td>\n",
              "      <td>A Plan No One Escapes</td>\n",
              "      <td>Spectre</td>\n",
              "      <td>6.3</td>\n",
              "      <td>4466</td>\n",
              "    </tr>\n",
              "    <tr>\n",
              "      <th>3</th>\n",
              "      <td>250000000</td>\n",
              "      <td>[{\"id\": 28, \"name\": \"Action\"}, {\"id\": 80, \"nam...</td>\n",
              "      <td>http://www.thedarkknightrises.com/</td>\n",
              "      <td>49026</td>\n",
              "      <td>[{\"id\": 849, \"name\": \"dc comics\"}, {\"id\": 853,...</td>\n",
              "      <td>en</td>\n",
              "      <td>The Dark Knight Rises</td>\n",
              "      <td>Following the death of District Attorney Harve...</td>\n",
              "      <td>112.312950</td>\n",
              "      <td>[{\"name\": \"Legendary Pictures\", \"id\": 923}, {\"...</td>\n",
              "      <td>[{\"iso_3166_1\": \"US\", \"name\": \"United States o...</td>\n",
              "      <td>2012-07-16</td>\n",
              "      <td>1084939099</td>\n",
              "      <td>165.0</td>\n",
              "      <td>[{\"iso_639_1\": \"en\", \"name\": \"English\"}]</td>\n",
              "      <td>Released</td>\n",
              "      <td>The Legend Ends</td>\n",
              "      <td>The Dark Knight Rises</td>\n",
              "      <td>7.6</td>\n",
              "      <td>9106</td>\n",
              "    </tr>\n",
              "    <tr>\n",
              "      <th>4</th>\n",
              "      <td>260000000</td>\n",
              "      <td>[{\"id\": 28, \"name\": \"Action\"}, {\"id\": 12, \"nam...</td>\n",
              "      <td>http://movies.disney.com/john-carter</td>\n",
              "      <td>49529</td>\n",
              "      <td>[{\"id\": 818, \"name\": \"based on novel\"}, {\"id\":...</td>\n",
              "      <td>en</td>\n",
              "      <td>John Carter</td>\n",
              "      <td>John Carter is a war-weary, former military ca...</td>\n",
              "      <td>43.926995</td>\n",
              "      <td>[{\"name\": \"Walt Disney Pictures\", \"id\": 2}]</td>\n",
              "      <td>[{\"iso_3166_1\": \"US\", \"name\": \"United States o...</td>\n",
              "      <td>2012-03-07</td>\n",
              "      <td>284139100</td>\n",
              "      <td>132.0</td>\n",
              "      <td>[{\"iso_639_1\": \"en\", \"name\": \"English\"}]</td>\n",
              "      <td>Released</td>\n",
              "      <td>Lost in our world, found in another.</td>\n",
              "      <td>John Carter</td>\n",
              "      <td>6.1</td>\n",
              "      <td>2124</td>\n",
              "    </tr>\n",
              "  </tbody>\n",
              "</table>\n",
              "</div>"
            ],
            "text/plain": [
              "      budget  ... vote_count\n",
              "0  237000000  ...      11800\n",
              "1  300000000  ...       4500\n",
              "2  245000000  ...       4466\n",
              "3  250000000  ...       9106\n",
              "4  260000000  ...       2124\n",
              "\n",
              "[5 rows x 20 columns]"
            ]
          },
          "metadata": {
            "tags": []
          },
          "execution_count": 16
        }
      ]
    },
    {
      "cell_type": "markdown",
      "metadata": {
        "id": "mKIajZfL_s3s",
        "colab_type": "text"
      },
      "source": [
        "Classificando todos os filmes por idioma (**no formato de tabela**), para ver quais são os idiomas mais apresentados podemos fazer.\n",
        "\n"
      ]
    },
    {
      "cell_type": "code",
      "metadata": {
        "id": "AsjWXg7UAS1X",
        "colab_type": "code",
        "colab": {
          "base_uri": "https://localhost:8080/",
          "height": 206
        },
        "outputId": "abc649c7-f52a-4a6d-cdc7-f1b2c15a4015"
      },
      "source": [
        "# to_frame -> Coloca em formato de dataframe, como se fosse mesmo uma tabela formatada.\n",
        "# reset_index -> Tira o index e transforma em outra tabela.\n",
        "tmdb_total = tmdb.original_language.value_counts().to_frame().reset_index() \n",
        "tmdb_total.columns = [\"original_language\", \"quantity\"]\n",
        "tmdb_total.head()"
      ],
      "execution_count": null,
      "outputs": [
        {
          "output_type": "execute_result",
          "data": {
            "text/html": [
              "<div>\n",
              "<style scoped>\n",
              "    .dataframe tbody tr th:only-of-type {\n",
              "        vertical-align: middle;\n",
              "    }\n",
              "\n",
              "    .dataframe tbody tr th {\n",
              "        vertical-align: top;\n",
              "    }\n",
              "\n",
              "    .dataframe thead th {\n",
              "        text-align: right;\n",
              "    }\n",
              "</style>\n",
              "<table border=\"1\" class=\"dataframe\">\n",
              "  <thead>\n",
              "    <tr style=\"text-align: right;\">\n",
              "      <th></th>\n",
              "      <th>original_language</th>\n",
              "      <th>quantity</th>\n",
              "    </tr>\n",
              "  </thead>\n",
              "  <tbody>\n",
              "    <tr>\n",
              "      <th>0</th>\n",
              "      <td>en</td>\n",
              "      <td>4505</td>\n",
              "    </tr>\n",
              "    <tr>\n",
              "      <th>1</th>\n",
              "      <td>fr</td>\n",
              "      <td>70</td>\n",
              "    </tr>\n",
              "    <tr>\n",
              "      <th>2</th>\n",
              "      <td>es</td>\n",
              "      <td>32</td>\n",
              "    </tr>\n",
              "    <tr>\n",
              "      <th>3</th>\n",
              "      <td>de</td>\n",
              "      <td>27</td>\n",
              "    </tr>\n",
              "    <tr>\n",
              "      <th>4</th>\n",
              "      <td>zh</td>\n",
              "      <td>27</td>\n",
              "    </tr>\n",
              "  </tbody>\n",
              "</table>\n",
              "</div>"
            ],
            "text/plain": [
              "  original_language  quantity\n",
              "0                en      4505\n",
              "1                fr        70\n",
              "2                es        32\n",
              "3                de        27\n",
              "4                zh        27"
            ]
          },
          "metadata": {
            "tags": []
          },
          "execution_count": 17
        }
      ]
    },
    {
      "cell_type": "markdown",
      "metadata": {
        "id": "EtiebNioPjNk",
        "colab_type": "text"
      },
      "source": [
        "Fazendo uma tabela básica com esses dados, temos o seguinte gráfico de barras:"
      ]
    },
    {
      "cell_type": "code",
      "metadata": {
        "id": "7k3F1KKSPoGp",
        "colab_type": "code",
        "colab": {
          "base_uri": "https://localhost:8080/",
          "height": 297
        },
        "outputId": "02dddd88-3875-4db4-ade0-a068674a3c77"
      },
      "source": [
        "sns.barplot(x = \"original_language\", y = \"quantity\", data = tmdb_total)"
      ],
      "execution_count": null,
      "outputs": [
        {
          "output_type": "execute_result",
          "data": {
            "text/plain": [
              "<matplotlib.axes._subplots.AxesSubplot at 0x7fd752702dd8>"
            ]
          },
          "metadata": {
            "tags": []
          },
          "execution_count": 18
        },
        {
          "output_type": "display_data",
          "data": {
            "image/png": "[encoded data removed]",
            "text/plain": [
              "<Figure size 432x288 with 1 Axes>"
            ]
          },
          "metadata": {
            "tags": [],
            "needs_background": "light"
          }
        }
      ]
    },
    {
      "cell_type": "markdown",
      "metadata": {
        "id": "J5WYrDuDP50r",
        "colab_type": "text"
      },
      "source": [
        "> Apesar de parecer extremamente fácil, podemos usar a função *sns.catplot()* do **seaborn**, que faz todo o processo sozinho. Porém, como todas as ferramentas que obtém-se facilidade, a função é mais de *alto nível*."
      ]
    },
    {
      "cell_type": "markdown",
      "metadata": {
        "id": "C2C8J4DqSYnE",
        "colab_type": "text"
      },
      "source": [
        "#### Um pouco sobre **data visualization**\n",
        "\n",
        "Logicamente que existem diversos meios de apresentar os dados, diante de vários tipos de gráficos. Isso depende das situações, como podemos ver no último gráfico que fizemos, os dados não ficaram nada claros. Por isso, podemos usar de outros recursos para mostrar corretamente o que queremos, como por exemplo separar os filmes em inglês e agrupar todos os outros para mostra-los em geral, dessa forma:"
      ]
    },
    {
      "cell_type": "code",
      "metadata": {
        "id": "adhxImiaUVPB",
        "colab_type": "code",
        "colab": {
          "base_uri": "https://localhost:8080/",
          "height": 282
        },
        "outputId": "8ba37988-d7f0-4299-ac42-f4796fa6f1f4"
      },
      "source": [
        "total_valores = tmdb.original_language.value_counts()  # Contando quantidades de cada idioma.\n",
        "somente_ingles = total_valores.loc[\"en\"]  # Separando o inglẽs.\n",
        "resto = total_valores.sum() - somente_ingles  # Separando os outros idiomas.\n",
        "\n",
        "linguagens_filmes = dict(idioma=[\"ingles\", \"resto\"], quantidade=[somente_ingles, resto])  # Fazendo um dicionário em formato de tabela.\n",
        "\n",
        "sns.barplot(x = \"idioma\", y = \"quantidade\", data = linguagens_filmes)  # Mostrando esse dicionário da forma certa."
      ],
      "execution_count": null,
      "outputs": [
        {
          "output_type": "execute_result",
          "data": {
            "text/plain": [
              "<matplotlib.axes._subplots.AxesSubplot at 0x7fd75e2fef60>"
            ]
          },
          "metadata": {
            "tags": []
          },
          "execution_count": 19
        },
        {
          "output_type": "display_data",
          "data": {
            "image/png": "[encoded data removed]",
            "text/plain": [
              "<Figure size 432x288 with 1 Axes>"
            ]
          },
          "metadata": {
            "tags": [],
            "needs_background": "light"
          }
        }
      ]
    },
    {
      "cell_type": "markdown",
      "metadata": {
        "id": "6lUOC95RWZgS",
        "colab_type": "text"
      },
      "source": [
        "> É perceptível a diferença feita por um gráfico que realmente apresenta o que deve ser mostrado, de um que segrega as informações."
      ]
    },
    {
      "cell_type": "markdown",
      "metadata": {
        "id": "CXf0xCOc5jYX",
        "colab_type": "text"
      },
      "source": [
        "E assim, podemos fazer uma comparação somente com o *resto*, para realmente conseguir tirar algumas conclusões."
      ]
    },
    {
      "cell_type": "code",
      "metadata": {
        "id": "xS2drovs5rI8",
        "colab_type": "code",
        "colab": {
          "base_uri": "https://localhost:8080/",
          "height": 352
        },
        "outputId": "a2149714-d1e9-40ae-f9ba-8dc633ea8a29"
      },
      "source": [
        "tmdb_total = tmdb_total.query(\"original_language != 'en'\")\n",
        "plt.figure(figsize=(10,5))\n",
        "sns.barplot(x = \"original_language\", y = \"quantity\", data = tmdb_total, palette=\"GnBu_d\")"
      ],
      "execution_count": null,
      "outputs": [
        {
          "output_type": "execute_result",
          "data": {
            "text/plain": [
              "<matplotlib.axes._subplots.AxesSubplot at 0x7fd752a18908>"
            ]
          },
          "metadata": {
            "tags": []
          },
          "execution_count": 20
        },
        {
          "output_type": "display_data",
          "data": {
            "image/png": "[encoded data removed]",
            "text/plain": [
              "<Figure size 720x360 with 1 Axes>"
            ]
          },
          "metadata": {
            "tags": [],
            "needs_background": "light"
          }
        }
      ]
    },
    {
      "cell_type": "markdown",
      "metadata": {
        "id": "He8OR2RLhYZR",
        "colab_type": "text"
      },
      "source": [
        "## Um pouco sobre **Numpy**\n",
        "\n",
        "**Numpy** é uma biblioteca do Python para melhorar o modo em que são apresentados os arrays. Com seus próprios arrays, a velocidade das operações ficam muito mais rápidas, e é possível fazer contas que naturalmente não estavam disponíveis com o Python. Para criar arrays podemos fazer o seguinte:"
      ]
    },
    {
      "cell_type": "code",
      "metadata": {
        "id": "2k8sggKXiBwY",
        "colab_type": "code",
        "colab": {
          "base_uri": "https://localhost:8080/",
          "height": 52
        },
        "outputId": "072e1e7d-cfcf-448a-b275-068ae2fd4538"
      },
      "source": [
        "import numpy as np\n",
        "\n",
        "array1 = np.array([5] * 10)  # Fazendo array completo com 10 elementos.\n",
        "array2 = np.array([10] * 10)  # Um segundo array com 10 elementos, mas com valor 10.\n",
        "np.append(array1, array2)  # Juntando os dois arrays."
      ],
      "execution_count": null,
      "outputs": [
        {
          "output_type": "execute_result",
          "data": {
            "text/plain": [
              "array([ 5,  5,  5,  5,  5,  5,  5,  5,  5,  5, 10, 10, 10, 10, 10, 10, 10,\n",
              "       10, 10, 10])"
            ]
          },
          "metadata": {
            "tags": []
          },
          "execution_count": 21
        }
      ]
    }
  ]
}