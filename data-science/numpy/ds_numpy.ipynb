{
  "nbformat": 4,
  "nbformat_minor": 0,
  "metadata": {
    "colab": {
      "name": "ds-numpy.ipynb",
      "provenance": []
    },
    "kernelspec": {
      "name": "python3",
      "display_name": "Python 3"
    }
  },
  "cells": [
    {
      "cell_type": "markdown",
      "metadata": {
        "id": "QNHlqsUVtsxe",
        "colab_type": "text"
      },
      "source": [
        "[![Open In Colab](https://colab.research.google.com/assets/colab-badge.svg)](https://colab.research.google.com/github/vicnetto/py-learn/blob/master/data-science/numpy/ds_numpy.ipynb) \n",
        "> # Aprendendo um pouco sobre **Numpy**\n",
        "(ABRA PELO GOOGLE COLAB PARA MELHOR VISUALIZAÇÃO)"
      ]
    },
    {
      "cell_type": "markdown",
      "metadata": {
        "id": "skU54YnjxGzq",
        "colab_type": "text"
      },
      "source": [
        "O **Numpy** é uma biblioteca do Python extremamente eficiente para processamento numérico. Ele apresenta um array extremamente poderoso, que apresenta:\n",
        "\n",
        "*   Altíssima velocidade;\n",
        "*   Funções sofisticadas para evitar o uso de laços de repetição;\n",
        "*   Recursos de álgebra linear;\n",
        "*   Geração de números aleatórios."
      ]
    },
    {
      "cell_type": "markdown",
      "metadata": {
        "id": "7AgCYmSt092r",
        "colab_type": "text"
      },
      "source": [
        "## Introduzindo os arrays **Numpy**"
      ]
    },
    {
      "cell_type": "markdown",
      "metadata": {
        "id": "ohqxOVkZ1KnA",
        "colab_type": "text"
      },
      "source": [
        "Os arrays **numpy** podem ser facilmente criados pelas próprias listas do Python. Por exemplo:"
      ]
    },
    {
      "cell_type": "code",
      "metadata": {
        "id": "Lf_WHvgt1UJW",
        "colab_type": "code",
        "colab": {
          "base_uri": "https://localhost:8080/",
          "height": 34
        },
        "outputId": "d78e067b-e430-4317-8969-b24b345efe4d"
      },
      "source": [
        "import numpy as np\n",
        "\n",
        "km = np.array([1230, 1500, 3000, 2000])  # Fazendo um novo np.array a partir de um array do próprio Python.\n",
        "print(km, type(km))"
      ],
      "execution_count": 1,
      "outputs": [
        {
          "output_type": "stream",
          "text": [
            "[1230 1500 3000 2000] <class 'numpy.ndarray'>\n"
          ],
          "name": "stdout"
        }
      ]
    },
    {
      "cell_type": "markdown",
      "metadata": {
        "id": "EFwIGjQT2mNh",
        "colab_type": "text"
      },
      "source": [
        "### Inserindo dados externos com a utilização dos arrays"
      ]
    },
    {
      "cell_type": "markdown",
      "metadata": {
        "id": "wtFxg9c94J5s",
        "colab_type": "text"
      },
      "source": [
        "Usando o numpy, podemos inserir dados direto dos arquivos e fazer operações logo em seguida:"
      ]
    },
    {
      "cell_type": "code",
      "metadata": {
        "id": "PDRhOAR32sy7",
        "colab_type": "code",
        "colab": {
          "base_uri": "https://localhost:8080/",
          "height": 590
        },
        "outputId": "50a8f315-84cf-4569-83c2-5b5ff41e02c9"
      },
      "source": [
        "km = np.loadtxt(fname = \"carros-km.txt\", dtype = int)  # Dois parâmetros: fname (nome do arquivo) e dtype (tipo forçado do arquivo).\n",
        "km"
      ],
      "execution_count": 2,
      "outputs": [
        {
          "output_type": "execute_result",
          "data": {
            "text/plain": [
              "array([ 44410,   5712,  37123,      0,  25757,  10728,      0,  77599,\n",
              "        99197,  37978,  12859,   8052,  89773,      0,  41457, 115607,\n",
              "        46449,      0,  37086,  15173, 101193,      0,  98079, 102959,\n",
              "            0,      0,   5795,      0,  58848,  94381,  30163,  53332,\n",
              "        17720,  33808,  90684,  43975,      0,      0,   5526,      0,\n",
              "        93415,  40762,      0,  86302,      0,   9755,  69945,   2395,\n",
              "            0,  80349,  85554,  50496,  67716,  93947,  35345,  81007,\n",
              "       119513,      0,      0,      0,      0,      0, 118895,  48509,\n",
              "       100912,  95649,      0,  90495,      0,  29132,  23802,  84992,\n",
              "        54395,  26731,  44329, 118236, 113808,    610,      0,      0,\n",
              "        12887,  79607,  90924,  42733,      0,      0, 117714, 113885,\n",
              "            0,  30511,  74867, 119760,   8356,  64247,  88661,   4539,\n",
              "       110116,  33215,  92001,      0,  81708,  70641,      0,  91277,\n",
              "        26544,  52596,  47503,  89056,  28834, 110564,  56638,  17357,\n",
              "        74015,  15196,      0,  10821,      0,      0,   9595,  99052,\n",
              "        52389, 119945,  96005,  31639,      0,  80187,      0,  58212,\n",
              "        61672,  32017,      0,  56944,      0,  86519,   4821, 101025,\n",
              "        30705,      0,  32555, 103389,      0,  55289,      0,      0,\n",
              "       115930,  66437,  96800,  14237,  19896, 113045, 114942,   3173,\n",
              "        83611,  25356,  88634,   2314,   2627,  52034,      0,      0,\n",
              "        79577, 108201,  76453,  57683,  96610, 109001,  26212,  45971,\n",
              "        49182,  49907,  38620,  60996,  73914, 107392,   9146,      0,\n",
              "        17924,      0, 116949,  20476,  52804,   8849,  91724,  32056,\n",
              "        74886,      0,      0,  52189,  83559,      0,  20328,      0,\n",
              "        75577,  33659, 104341,  25510,  18965,  87161,   6652,  55738,\n",
              "            0,      0,      0,  64320,      0,  68678,  71697,      0,\n",
              "        34783,  33772,  85127,  13606,  35647,  95128,  14046,  41194,\n",
              "            0,  96100, 103900,  43814,  24638,      0, 110966,  15987,\n",
              "        53369,  10077,  71544,    107,   8394,  41498, 116002, 100858,\n",
              "        67475,   8497,   4420,      0,  58537,      0,      0, 112016,\n",
              "        91840, 112787,      0,      0,   9293,      0,  55083,  48796,\n",
              "            0,  89685,  85384,  98108,  71280,  27505,  29981,  52637,\n",
              "         7685,  50188])"
            ]
          },
          "metadata": {
            "tags": []
          },
          "execution_count": 2
        }
      ]
    },
    {
      "cell_type": "markdown",
      "metadata": {
        "id": "E5XV7YhZ4SzF",
        "colab_type": "text"
      },
      "source": [
        "Ainda para verificar o tamanho desse arquivo podemos usar o seguinte código:"
      ]
    },
    {
      "cell_type": "code",
      "metadata": {
        "id": "qd4IP5uP4dPS",
        "colab_type": "code",
        "colab": {
          "base_uri": "https://localhost:8080/",
          "height": 34
        },
        "outputId": "cd7ede05-3cbe-4f01-a976-3e082d8b6e10"
      },
      "source": [
        "km.shape  # Que no caso são 258 dados, unidimensionais."
      ],
      "execution_count": 3,
      "outputs": [
        {
          "output_type": "execute_result",
          "data": {
            "text/plain": [
              "(258,)"
            ]
          },
          "metadata": {
            "tags": []
          },
          "execution_count": 3
        }
      ]
    },
    {
      "cell_type": "markdown",
      "metadata": {
        "id": "C-LjDkV45SxN",
        "colab_type": "text"
      },
      "source": [
        "## Por que devemos usar os arrays do **Numpy**?\n",
        "\n",
        "Aqui temos um pequeno teste de velocidade entre os arrays normais do Python e os np.arrays, apenas para comparação. Para fazer essa comparação, existe a variável do Python *%time*, que indica o tempo gasto para fazer tal operação. Todos os valores do array serão multiplicados por 2, porém em um laço de for, para ser possível fazer uma comparação."
      ]
    },
    {
      "cell_type": "code",
      "metadata": {
        "id": "1NrpH2Hc5op3",
        "colab_type": "code",
        "colab": {
          "base_uri": "https://localhost:8080/",
          "height": 52
        },
        "outputId": "b329fc0b-3651-408e-8e44-225d30738fbf"
      },
      "source": [
        "# Primeiramente realizando o teste pelos arrays numpy:\n",
        "np_array = np.arange(1000000)  # Função igual a range do Python, porém do numpy.\n",
        "%time for _ in range(100): np_array *= 2"
      ],
      "execution_count": 4,
      "outputs": [
        {
          "output_type": "stream",
          "text": [
            "CPU times: user 51.7 ms, sys: 0 ns, total: 51.7 ms\n",
            "Wall time: 52.9 ms\n"
          ],
          "name": "stdout"
        }
      ]
    },
    {
      "cell_type": "markdown",
      "metadata": {
        "id": "-scNsyY87G_2",
        "colab_type": "text"
      },
      "source": [
        "> A função *arange(qnt)* do Numpy é extremamente importante. É a função *range(qnt)*, porém de uma forma extremamente rápida, que pode ser armazenada facilmente em um array Numpy."
      ]
    },
    {
      "cell_type": "code",
      "metadata": {
        "id": "Id3zHsuO7e21",
        "colab_type": "code",
        "colab": {
          "base_uri": "https://localhost:8080/",
          "height": 52
        },
        "outputId": "b624b51d-3629-4139-80b0-cd7c17572a43"
      },
      "source": [
        "# Agora realizando o teste pelos arrays normais do Python:\n",
        "py_list = list(range(1000000))\n",
        "%time for _ in range(100): py_list = [x * 2 for x in py_list]"
      ],
      "execution_count": 5,
      "outputs": [
        {
          "output_type": "stream",
          "text": [
            "CPU times: user 7.78 s, sys: 1.71 s, total: 9.49 s\n",
            "Wall time: 9.49 s\n"
          ],
          "name": "stdout"
        }
      ]
    },
    {
      "cell_type": "markdown",
      "metadata": {
        "id": "5eTQX01X9j58",
        "colab_type": "text"
      },
      "source": [
        "## Algumas operações em **Numpy**"
      ]
    },
    {
      "cell_type": "markdown",
      "metadata": {
        "id": "qSiNI5d99pah",
        "colab_type": "text"
      },
      "source": [
        "Dentro dessa parte, será colocado algumas **operações simples** com arrays **Numpy**, que usando listas, se tornam extremamente complicadas."
      ]
    },
    {
      "cell_type": "markdown",
      "metadata": {
        "id": "ZML1aBWl_EmI",
        "colab_type": "text"
      },
      "source": [
        "### Operações simples com todo o array"
      ]
    },
    {
      "cell_type": "code",
      "metadata": {
        "id": "tZ-bLWPd-Vf3",
        "colab_type": "code",
        "colab": {
          "base_uri": "https://localhost:8080/",
          "height": 34
        },
        "outputId": "c51c44da-ce97-4dc7-f530-4913a408c3a1"
      },
      "source": [
        "car_km = np.array([30000, 20000, 5000, 35000])  # Quantidade de km rodados pelo carro\n",
        "car_year = np.array([2015, 2014, 2020, 2013])  # Ano de fabricação do carro\n",
        "\n",
        "car_age = 2020 - car_year  # Idade atual do carro: ano atual - ano de fabricação\n",
        "car_age"
      ],
      "execution_count": 6,
      "outputs": [
        {
          "output_type": "execute_result",
          "data": {
            "text/plain": [
              "array([5, 6, 0, 7])"
            ]
          },
          "metadata": {
            "tags": []
          },
          "execution_count": 6
        }
      ]
    },
    {
      "cell_type": "markdown",
      "metadata": {
        "id": "42AYTopc_Imz",
        "colab_type": "text"
      },
      "source": [
        "> Para fazer tal operação com as listas do Python, seria necessário *lists comprehensions*, o que tornam o processo extremamente cansativo e lento."
      ]
    },
    {
      "cell_type": "code",
      "metadata": {
        "id": "9LK7gzUB_CXI",
        "colab_type": "code",
        "colab": {
          "base_uri": "https://localhost:8080/",
          "height": 69
        },
        "outputId": "f65f40cf-0870-4468-8cb6-a781296803f8"
      },
      "source": [
        "km_mean = car_km / car_age  # Como não existe divisão por 0, o array Numpy substitui o valor por um \"inf\" ou um \"nan\".\n",
        "km_mean"
      ],
      "execution_count": 7,
      "outputs": [
        {
          "output_type": "stream",
          "text": [
            "/usr/local/lib/python3.6/dist-packages/ipykernel_launcher.py:1: RuntimeWarning: divide by zero encountered in true_divide\n",
            "  \"\"\"Entry point for launching an IPython kernel.\n"
          ],
          "name": "stderr"
        },
        {
          "output_type": "execute_result",
          "data": {
            "text/plain": [
              "array([6000.        , 3333.33333333,           inf, 5000.        ])"
            ]
          },
          "metadata": {
            "tags": []
          },
          "execution_count": 7
        }
      ]
    },
    {
      "cell_type": "markdown",
      "metadata": {
        "id": "UPtrmgA8ETge",
        "colab_type": "text"
      },
      "source": [
        "### Operações com verificação booleana"
      ]
    },
    {
      "cell_type": "markdown",
      "metadata": {
        "id": "_0UjiqOGEXuF",
        "colab_type": "text"
      },
      "source": [
        "É possível fazer um *slicing* no nosso *np.array*, mas com uma verificação booleana, como se fosse um comparativo, do seguinte modo:"
      ]
    },
    {
      "cell_type": "code",
      "metadata": {
        "id": "ErGSotx_ErIu",
        "colab_type": "code",
        "colab": {
          "base_uri": "https://localhost:8080/",
          "height": 34
        },
        "outputId": "256cd04e-e942-4911-864f-a588347da85d"
      },
      "source": [
        "np_array = np.arange(10)\n",
        "np_array[np_array > 5]  # Pega somente os elementos que estão acima de 5."
      ],
      "execution_count": 8,
      "outputs": [
        {
          "output_type": "execute_result",
          "data": {
            "text/plain": [
              "array([6, 7, 8, 9])"
            ]
          },
          "metadata": {
            "tags": []
          },
          "execution_count": 8
        }
      ]
    },
    {
      "cell_type": "markdown",
      "metadata": {
        "id": "E3TK0Ck0FU-b",
        "colab_type": "text"
      },
      "source": [
        "No mesmo jeito, é possível realizar essas operações em uma matriz **Numpy**."
      ]
    },
    {
      "cell_type": "code",
      "metadata": {
        "id": "aut6wbQPFcSq",
        "colab_type": "code",
        "colab": {
          "base_uri": "https://localhost:8080/",
          "height": 52
        },
        "outputId": "09374865-4ee1-4cfe-bf6d-804a473aab78"
      },
      "source": [
        "np_matrix = np.array([[1, 2, 3], [4, 5, 6]])  # Fazendo uma matriz simples.\n",
        "np_matrix[:, np_matrix[1] % 2 == 0]  # Somente inserindo no array valores que sejam pares na sua segunda parte."
      ],
      "execution_count": 9,
      "outputs": [
        {
          "output_type": "execute_result",
          "data": {
            "text/plain": [
              "array([[1, 3],\n",
              "       [4, 6]])"
            ]
          },
          "metadata": {
            "tags": []
          },
          "execution_count": 9
        }
      ]
    },
    {
      "cell_type": "markdown",
      "metadata": {
        "id": "NxOHK0RfhhK1",
        "colab_type": "text"
      },
      "source": [
        "## Alguns atributos e métodos da biblioteca **Numpy**\n"
      ]
    },
    {
      "cell_type": "markdown",
      "metadata": {
        "id": "cXiUNTYRjJ5X",
        "colab_type": "text"
      },
      "source": [
        "Primeiramente os atributos, que podem ser encontrados na documentação do próprio [Numpy](https://numpy.org/doc/1.16/reference/arrays.ndarray.html#array-attributes). Então alguns atributos são:"
      ]
    },
    {
      "cell_type": "code",
      "metadata": {
        "id": "_fMBS1ESh2BV",
        "colab_type": "code",
        "colab": {
          "base_uri": "https://localhost:8080/",
          "height": 156
        },
        "outputId": "6be273df-6554-42ab-ef2b-6ac365d0b9de"
      },
      "source": [
        "data = np.array([[1, 2, 3, 4], [8, 7, 6, 5]])\n",
        "print(\"Dimensões do Array: \", data.shape)  # Função para mostrar\n",
        "print(\"Numero da dimensão: \", data.ndim)\n",
        "print(\"Numero de elementos: \", data.size)\n",
        "print(\"Tipo dos dados: \", data.dtype)\n",
        "print(\"Array transposto: \", data.T)\n"
      ],
      "execution_count": 10,
      "outputs": [
        {
          "output_type": "stream",
          "text": [
            "Dimensões do Array:  (2, 4)\n",
            "Numero da dimensão:  2\n",
            "Numero de elementos:  8\n",
            "Tipo dos dados:  int64\n",
            "Array transposto:  [[1 8]\n",
            " [2 7]\n",
            " [3 6]\n",
            " [4 5]]\n"
          ],
          "name": "stdout"
        }
      ]
    },
    {
      "cell_type": "markdown",
      "metadata": {
        "id": "zZld2NDrkAVT",
        "colab_type": "text"
      },
      "source": [
        "Agora as métodos, que também podem ser encotradas no site do [Numpy](https://numpy.org/doc/1.16/reference/arrays.ndarray.html#array-methods). Porém temos alguns aqui como exemplo:"
      ]
    },
    {
      "cell_type": "code",
      "metadata": {
        "id": "VdSLoj9Kkoc5",
        "colab_type": "code",
        "colab": {
          "base_uri": "https://localhost:8080/",
          "height": 243
        },
        "outputId": "e6398e0a-82d1-457d-8653-a176f33055b0"
      },
      "source": [
        "# Usando a matriz \"data\" como variável.\n",
        "print(\"Np.array para py.list: \", data.tolist())\n",
        "print(\"Transformar o array em outro formato: \", data.reshape((4, 2))) \n",
        "print(\"Transformar o array em outro formato: \", data.reshape((4, 2), order='F'))  # Tem várias ordens, usando o parâmetro order.\n",
        "print(\"Cria uma copia do array: \", data.copy)\n",
        "\n",
        "data_new = np.array([[1, 2, 3, 4], [8, 7, 6, 5]])\n",
        "data_new.resize((3, 4), refcheck=False)\n",
        "print(\"Insere mais dados no array: \", data_new)"
      ],
      "execution_count": 11,
      "outputs": [
        {
          "output_type": "stream",
          "text": [
            "Np.array para py.list:  [[1, 2, 3, 4], [8, 7, 6, 5]]\n",
            "Transformar o array em outro formato:  [[1 2]\n",
            " [3 4]\n",
            " [8 7]\n",
            " [6 5]]\n",
            "Transformar o array em outro formato:  [[1 3]\n",
            " [8 6]\n",
            " [2 4]\n",
            " [7 5]]\n",
            "Cria uma copia do array:  <built-in method copy of numpy.ndarray object at 0x7f2d13de89e0>\n",
            "Insere mais dados no array:  [[1 2 3 4]\n",
            " [8 7 6 5]\n",
            " [0 0 0 0]]\n"
          ],
          "name": "stdout"
        }
      ]
    },
    {
      "cell_type": "markdown",
      "metadata": {
        "id": "K0AQsrXArUOX",
        "colab_type": "text"
      },
      "source": [
        "## Estatísticas com arrays **Numpy**"
      ]
    },
    {
      "cell_type": "markdown",
      "metadata": {
        "id": "9ErmmMSArcJx",
        "colab_type": "text"
      },
      "source": [
        "Um pouco dos métodos utilizados em estatística para **estudo dos dados**, porém agora utilizando o **Numpy**."
      ]
    },
    {
      "cell_type": "code",
      "metadata": {
        "id": "nX_i1IXsro-u",
        "colab_type": "code",
        "colab": {}
      },
      "source": [
        "# Primeiramente transformando esses arquivos em variáveis.\n",
        "anos = np.loadtxt(fname = \"carros-anos.txt\")\n",
        "km = np.loadtxt(fname = \"carros-km.txt\")\n",
        "valor = np.loadtxt(fname = \"carros-valor.txt\")"
      ],
      "execution_count": 12,
      "outputs": []
    },
    {
      "cell_type": "markdown",
      "metadata": {
        "id": "TOHV8auesKcZ",
        "colab_type": "text"
      },
      "source": [
        "Agora um poucos dos métodos estatísticos, aprendidos também um pouco em **Pandas**:"
      ]
    },
    {
      "cell_type": "code",
      "metadata": {
        "id": "SJhQJ4eVsBCx",
        "colab_type": "code",
        "colab": {
          "base_uri": "https://localhost:8080/",
          "height": 86
        },
        "outputId": "1c6800de-9e27-42d1-d11e-719166060860"
      },
      "source": [
        "dataset = np.column_stack((anos, km, valor))  # Juntando todas as colunas de dados em um dataset.\n",
        "print(\"Apenas para ter noção do tamanho: \", dataset.shape)\n",
        "print(\"Calculando as medias das colunas: \", np.mean(dataset[:, 1:3], axis = 0))  # Fazendo a média de todos os valores de cada coluna. \n",
        "                                                                                 # Caso queira fazer por linha, colocar 1 no axis.\n",
        "print(\"Para calcular o desvio padrão no valor: \", np.std(dataset[:, 2]))\n",
        "print(\"Calculando o somatorio: \", dataset[:, 1].sum())  # ou até mesmo np.sum(---), dá na mesma."
      ],
      "execution_count": 13,
      "outputs": [
        {
          "output_type": "stream",
          "text": [
            "Apenas para ter noção do tamanho:  (258, 3)\n",
            "Calculando as medias das colunas:  [44499.41472868 98960.51310078]\n",
            "Para calcular o desvio padrão no valor:  29754.101150388564\n",
            "Calculando o somatorio:  11480849.0\n"
          ],
          "name": "stdout"
        }
      ]
    }
  ]
}